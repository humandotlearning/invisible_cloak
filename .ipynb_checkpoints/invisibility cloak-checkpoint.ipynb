{
 "cells": [
  {
   "cell_type": "code",
   "execution_count": 97,
   "metadata": {
    "collapsed": true
   },
   "outputs": [],
   "source": [
    "import cv2\n",
    "import numpy as np\n",
    "import time"
   ]
  },
  {
   "cell_type": "code",
   "execution_count": 103,
   "metadata": {
    "collapsed": true
   },
   "outputs": [],
   "source": [
    "# provide name of the output file you want to save\n",
    "out_name = \"output_nimmi.avi\"\n",
    "\n",
    "# creates a videocapture object\n",
    "cam = cv2.VideoCapture(0)\n",
    "\n",
    "# create a video write object\n",
    "fourcc = cv2.VideoWriter_fourcc(*'XVID')\n",
    "out = cv2.VideoWriter(out_name, fourcc, 20.0, (640,480))\n",
    "\n",
    "bkg = 0\n",
    "while True:\n",
    "    ret, im = cam.read()\n",
    "    \n",
    "    # checks if frames are being received or not \n",
    "    if ret == False:\n",
    "        continue\n",
    "        \n",
    "    # saves a reference background frame\n",
    "    while bkg <= 3:\n",
    "        bkg += 1\n",
    "        bkg_im = im\n",
    "        continue\n",
    "        \n",
    "    # converts to hsv channel as it is easier to threshol color\n",
    "    im_hsv = cv2.cvtColor(im , cv2.COLOR_BGR2HSV)\n",
    "    \n",
    "    # red has 2 values because in the hsv scale it lies in the begining and end of the scale\n",
    "    # lower red\n",
    "    lower_color =  np.array([0,120,70])\n",
    "    upper_color =  np.array([10,255,255])\n",
    "    mask1 = cv2.inRange(im_hsv, lower_color, upper_color)\n",
    "\n",
    "    # upper red\n",
    "    # the H values lies between 0-180 only in hsv\n",
    "    lower_color =  np.array([170,120,70])\n",
    "    upper_color =  np.array([180,255,255])\n",
    "    mask2 = cv2.inRange(im_hsv, lower_color, upper_color)\n",
    "    mask = mask1+mask2\n",
    "    \n",
    "    # fill noise in the mask\n",
    "    mask = cv2.morphologyEx(mask, cv2.MORPH_OPEN, np.ones((3,3),np.uint8)) \n",
    "    mask_not = cv2.bitwise_not(mask)\n",
    "    \n",
    "    # get the intermediate images\n",
    "    im_hole = cv2.bitwise_and(im, im, mask=mask_not)\n",
    "    bkg_mask = cv2.bitwise_and(bkg_im, bkg_im ,mask=mask)\n",
    "    \n",
    "    # final image\n",
    "    final_im = cv2.bitwise_or(im_hole, bkg_mask)\n",
    "    out.write(final_im)\n",
    "\n",
    "\n",
    "#     cv2.imshow('image', im)\n",
    "#     cv2.imshow('mask', mask)\n",
    "#     cv2.imshow('im_hole', im_hole)\n",
    "#     cv2.imshow('bkg_mask', bkg_mask)\n",
    "    \n",
    "    cv2.imshow('final_im', final_im)\n",
    "    \n",
    "    \n",
    "    if cv2.waitKey(1) & 0xFF == ord('q'):\n",
    "        break\n",
    "\n",
    "out.release()\n",
    "cam.release()\n",
    "cv2.destroyAllWindows()"
   ]
  }
 ],
 "metadata": {
  "kernelspec": {
   "display_name": "Python 3",
   "language": "python",
   "name": "python3"
  },
  "language_info": {
   "codemirror_mode": {
    "name": "ipython",
    "version": 3
   },
   "file_extension": ".py",
   "mimetype": "text/x-python",
   "name": "python",
   "nbconvert_exporter": "python",
   "pygments_lexer": "ipython3",
   "version": "3.6.3"
  }
 },
 "nbformat": 4,
 "nbformat_minor": 2
}
