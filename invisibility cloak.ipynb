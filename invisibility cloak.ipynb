{
 "cells": [
  {
   "cell_type": "code",
   "execution_count": 97,
   "metadata": {},
   "outputs": [],
   "source": [
    "import cv2\n",
    "import numpy as np\n",
    "import time"
   ]
  },
  {
   "cell_type": "code",
   "execution_count": 103,
   "metadata": {},
   "outputs": [],
   "source": [
    "out_name = \"output_nimmi.avi\"\n",
    "\n",
    "cam = cv2.VideoCapture(0)\n",
    "\n",
    "fourcc = cv2.VideoWriter_fourcc(*'XVID')\n",
    "out = cv2.VideoWriter(out_name, fourcc, 20.0, (640,480))\n",
    "\n",
    "bkg = 0\n",
    "while True:\n",
    "    ret, im = cam.read()\n",
    "    if ret == False:\n",
    "        continue\n",
    "    while bkg <= 3:\n",
    "        bkg += 1\n",
    "#         time.sleep(2)\n",
    "        bkg_im = im\n",
    "        continue\n",
    "    im_hsv = cv2.cvtColor(im , cv2.COLOR_BGR2HSV)\n",
    "    \n",
    "    # lower red\n",
    "    lower_color =  np.array([0,120,70])\n",
    "    upper_color =  np.array([10,255,255])\n",
    "    mask1 = cv2.inRange(im_hsv, lower_color, upper_color)\n",
    "\n",
    "    # upper red\n",
    "    # the H values lies between 0-180 only in hsv\n",
    "    lower_color =  np.array([170,120,70])\n",
    "    upper_color =  np.array([180,255,255])\n",
    "    mask2 = cv2.inRange(im_hsv, lower_color, upper_color)\n",
    "    mask = mask1+mask2\n",
    "    \n",
    "    mask = cv2.morphologyEx(mask, cv2.MORPH_OPEN, np.ones((3,3),np.uint8)) \n",
    "    mask_not = cv2.bitwise_not(mask)\n",
    "    \n",
    "     \n",
    "    im_hole = cv2.bitwise_and(im, im, mask=mask_not)\n",
    "    bkg_mask = cv2.bitwise_and(bkg_im, bkg_im ,mask=mask)\n",
    "    \n",
    "    # final image\n",
    "    final_im = cv2.bitwise_or(im_hole, bkg_mask)\n",
    "    out.write(final_im)\n",
    "\n",
    "\n",
    "#     cv2.imshow('inv', im)\n",
    "#     cv2.imshow('mask', mask)\n",
    "#     cv2.imshow('im_hole', im_hole)\n",
    "#     cv2.imshow('bkg_mask', bkg_mask)\n",
    "    \n",
    "    cv2.imshow('final_im', final_im)\n",
    "    \n",
    "    \n",
    "#     print(mask)\n",
    "\n",
    "    if cv2.waitKey(1) & 0xFF == ord('q'):\n",
    "        break\n",
    "\n",
    "out.release()\n",
    "cam.release()\n",
    "cv2.destroyAllWindows()"
   ]
  },
  {
   "cell_type": "code",
   "execution_count": 86,
   "metadata": {},
   "outputs": [],
   "source": [
    "cam.release()\n",
    "cv2.destroyAllWindows\n",
    "out.release()"
   ]
  },
  {
   "cell_type": "code",
   "execution_count": null,
   "metadata": {},
   "outputs": [],
   "source": []
  }
 ],
 "metadata": {
  "kernelspec": {
   "display_name": "Python [conda env:py36]",
   "language": "python",
   "name": "conda-env-py36-py"
  },
  "language_info": {
   "codemirror_mode": {
    "name": "ipython",
    "version": 3
   },
   "file_extension": ".py",
   "mimetype": "text/x-python",
   "name": "python",
   "nbconvert_exporter": "python",
   "pygments_lexer": "ipython3",
   "version": "3.6.5"
  }
 },
 "nbformat": 4,
 "nbformat_minor": 2
}
